{
 "cells": [
  {
   "cell_type": "code",
   "execution_count": 5,
   "id": "8a40b21b-754a-4be7-9026-3afa1e32715c",
   "metadata": {},
   "outputs": [],
   "source": [
    "import os\n",
    "import pandas as pd\n",
    "import numpy as np\n",
    "import geopandas as gpd\n",
    "import folium\n",
    "\n",
    "import time\n",
    "import datetime as dt\n",
    "from datetime import timedelta, datetime, timezone\n",
    "from dateutil.relativedelta import relativedelta\n",
    "import warnings\n",
    "warnings.filterwarnings('ignore')\n",
    "\n",
    "import plotly\n",
    "import plotly.express as px\n",
    "import plotly.graph_objects as go\n",
    "from plotly.subplots import make_subplots\n",
    "\n",
    "from os import listdir\n",
    "from os.path import isfile, join"
   ]
  },
  {
   "cell_type": "code",
   "execution_count": 13,
   "id": "3bae7733-49fc-41e2-9622-3de7bb151d4d",
   "metadata": {},
   "outputs": [
    {
     "name": "stdout",
     "output_type": "stream",
     "text": [
      "EtoW\n",
      "['VDS_2월_비첨두_12~13_WtoE.csv', 'VDS_2월_비첨두_12~14_WtoE.csv', 'VDS_2월_비첨두_13~14_WtoE.csv', 'VDS_2월_오전첨두_07~08_WtoE.csv', 'VDS_2월_오전첨두_07~09_WtoE.csv', 'VDS_2월_오전첨두_08~09_WtoE.csv', 'VDS_2월_오후첨두_17~18_WtoE.csv', 'VDS_2월_오후첨두_17~19_WtoE.csv', 'VDS_2월_오후첨두_18~19_WtoE.csv', 'VDS_3월_비첨두_12~13_WtoE.csv', 'VDS_3월_비첨두_12~14_WtoE.csv', 'VDS_3월_비첨두_13~14_WtoE.csv', 'VDS_3월_오전첨두_07~08_WtoE.csv', 'VDS_3월_오전첨두_07~09_WtoE.csv', 'VDS_3월_오전첨두_08~09_WtoE.csv', 'VDS_3월_오후첨두_17~18_WtoE.csv', 'VDS_3월_오후첨두_17~19_WtoE.csv', 'VDS_3월_오후첨두_18~19_WtoE.csv', 'VDS_4월_비첨두_12~13_WtoE.csv', 'VDS_4월_비첨두_12~14_WtoE.csv', 'VDS_4월_비첨두_13~14_WtoE.csv', 'VDS_4월_오전첨두_07~08_WtoE.csv', 'VDS_4월_오전첨두_07~09_WtoE.csv', 'VDS_4월_오전첨두_08~09_WtoE.csv', 'VDS_4월_오후첨두_17~18_WtoE.csv', 'VDS_4월_오후첨두_17~19_WtoE.csv', 'VDS_4월_오후첨두_18~19_WtoE.csv']\n",
      "WtoE\n",
      "['VDS_2월_비첨두_12~13_WtoE.csv', 'VDS_2월_비첨두_12~14_WtoE.csv', 'VDS_2월_비첨두_13~14_WtoE.csv', 'VDS_2월_오전첨두_07~08_WtoE.csv', 'VDS_2월_오전첨두_07~09_WtoE.csv', 'VDS_2월_오전첨두_08~09_WtoE.csv', 'VDS_2월_오후첨두_17~18_WtoE.csv', 'VDS_2월_오후첨두_17~19_WtoE.csv', 'VDS_2월_오후첨두_18~19_WtoE.csv', 'VDS_3월_비첨두_12~13_WtoE.csv', 'VDS_3월_비첨두_12~14_WtoE.csv', 'VDS_3월_비첨두_13~14_WtoE.csv', 'VDS_3월_오전첨두_07~08_WtoE.csv', 'VDS_3월_오전첨두_07~09_WtoE.csv', 'VDS_3월_오전첨두_08~09_WtoE.csv', 'VDS_3월_오후첨두_17~18_WtoE.csv', 'VDS_3월_오후첨두_17~19_WtoE.csv', 'VDS_3월_오후첨두_18~19_WtoE.csv', 'VDS_4월_비첨두_12~13_WtoE.csv', 'VDS_4월_비첨두_12~14_WtoE.csv', 'VDS_4월_비첨두_13~14_WtoE.csv', 'VDS_4월_오전첨두_07~08_WtoE.csv', 'VDS_4월_오전첨두_07~09_WtoE.csv', 'VDS_4월_오전첨두_08~09_WtoE.csv', 'VDS_4월_오후첨두_17~18_WtoE.csv', 'VDS_4월_오후첨두_17~19_WtoE.csv', 'VDS_4월_오후첨두_18~19_WtoE.csv']\n"
     ]
    }
   ],
   "source": [
    "EtoW = 'results/도솔대교_VDS_EtoW'\n",
    "WtoE = 'results/도솔대교_VDS_WtoE'\n",
    "\n",
    "direc = [EtoW, WtoE]\n",
    "direcname = ['EtoW', 'WtoE']\n",
    "\n",
    "for i in range(2):\n",
    "    print(direcname[i])\n",
    "    onlyfiles = [f for f in listdir(d) if isfile(join(d, f))]\n",
    "    print(onlyfiles)\n",
    "\n",
    "\n",
    "    "
   ]
  },
  {
   "cell_type": "code",
   "execution_count": null,
   "id": "e42adcdc-3553-4f45-bd1f-b1206e6d2333",
   "metadata": {},
   "outputs": [],
   "source": []
  }
 ],
 "metadata": {
  "kernelspec": {
   "display_name": "Python [conda env:base] *",
   "language": "python",
   "name": "conda-base-py"
  },
  "language_info": {
   "codemirror_mode": {
    "name": "ipython",
    "version": 3
   },
   "file_extension": ".py",
   "mimetype": "text/x-python",
   "name": "python",
   "nbconvert_exporter": "python",
   "pygments_lexer": "ipython3",
   "version": "3.11.9"
  }
 },
 "nbformat": 4,
 "nbformat_minor": 5
}
